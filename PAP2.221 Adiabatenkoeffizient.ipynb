{
 "cells": [
  {
   "cell_type": "markdown",
   "metadata": {},
   "source": [
    "# Experiment 221 Adiabatenkoeffizient - Auswertung\n",
    "##### Felix Fleischle - 8.11.2021"
   ]
  },
  {
   "cell_type": "code",
   "execution_count": 1,
   "metadata": {},
   "outputs": [],
   "source": [
    "import numpy as np\n",
    "import matplotlib.pyplot as plt\n",
    "from scipy.optimize import curve_fit"
   ]
  },
  {
   "cell_type": "markdown",
   "metadata": {},
   "source": [
    "## 1. Bestimmung des Adiabatenkoeffizienten von Luft nach Clément und Desormes\n",
    "Wir tragen zuerst unsere Messwerte für die Höhen in Arrays ein:"
   ]
  },
  {
   "cell_type": "code",
   "execution_count": 2,
   "metadata": {},
   "outputs": [],
   "source": [
    "h_1 = np.array([0.08 , 0.079 , 0.121 , 0.119 , 0.085]) # meter\n",
    "h_1_err = np.ones([5])*0.002\n",
    "h_3 = np.array([0.012 , 0.012 , 0.056 , 0.026 , 0.038]) # meter\n",
    "h_3_err = np.ones([5])*0.002"
   ]
  },
  {
   "cell_type": "code",
   "execution_count": 3,
   "metadata": {},
   "outputs": [
    {
     "name": "stdout",
     "output_type": "stream",
     "text": [
      "Adiabatenkoeffizienten:  [1.17647059 1.17910448 1.86153846 1.27956989 1.80851064]\n",
      "Fehler Adiabatenkoeffizienten:  [0.07276727 0.07395991 0.10503864 0.05621811 0.14214577]\n",
      "Mittelwert Adiabatenkoeffizient:  1.461038811631337\n",
      "Fehler Mittelwert:  0.137772805878214\n",
      "Fehler Mittelwert nach oben abgeschätzt:  0.1645782956880795\n"
     ]
    }
   ],
   "source": [
    "# Nun können wir den Adiabtenkoeffizienten bestimmen\n",
    "kappa_cd = (h_1)/(h_1 - h_3)\n",
    "kappa_cd_err = np.sqrt( ( (1 / (h_1 - h_3) + h_1 / (h_1 - h_3)**2) * h_1_err )**2 + (h_1 * h_3_err / (h_1 - h_3)**2)**2 )\n",
    "print(\"Adiabatenkoeffizienten: \", kappa_cd)\n",
    "print(\"Fehler Adiabatenkoeffizienten: \", kappa_cd_err)\n",
    "\n",
    "# Wir bilden den Mittelwert\n",
    "kappa_cd_mean = np.mean(kappa_cd)\n",
    "kappa_cd_mean_std = np.std(kappa_cd)/np.sqrt(5)\n",
    "\n",
    "print(\"Mittelwert Adiabatenkoeffizient: \", kappa_cd_mean)\n",
    "print(\"Fehler Mittelwert: \", kappa_cd_mean_std)\n",
    "\n",
    "# Wir schätzen den Fehler nach oben ab mit dem Mittelwert der systematischen Fehler der einzelnen Adiabatenkoeffizienten\n",
    "kappa_cd_mean_sys = np.mean(kappa_cd_err)\n",
    "kappa_cd_mean_err = np.sqrt(kappa_cd_mean_std**2 + kappa_cd_mean_sys**2)\n",
    "\n",
    "print(\"Fehler Mittelwert nach oben abgeschätzt: \", kappa_cd_mean_err)"
   ]
  },
  {
   "cell_type": "markdown",
   "metadata": {},
   "source": [
    "Unser Ergebnis ist also: <br>\n",
    "$\\kappa_{cd,Luft} = 1.46 \\pm 0.16$"
   ]
  },
  {
   "cell_type": "markdown",
   "metadata": {},
   "source": [
    "## 2. Bestimmung des Adiabatenkoeffizienten von Luft und Argon nach Rüchardt"
   ]
  },
  {
   "cell_type": "code",
   "execution_count": 4,
   "metadata": {},
   "outputs": [
    {
     "name": "stdout",
     "output_type": "stream",
     "text": [
      "Druck Luft:  102362.22550467262 +- 10.504751604073256 Pa\n",
      "Druck Argon:  102353.62874409459 +- 12.791103968836067 Pa\n"
     ]
    }
   ],
   "source": [
    "t_Luft = 48.90 # Sekunden\n",
    "t_Argon = 46.97 # Sekunden\n",
    "t_err = 0.6 # Sekunden, Reaktionszeit\n",
    "\n",
    "m_Luft = 0.026116 # kg\n",
    "m_Luft_err = 0.000002 # kg\n",
    "m_Argon = 0.026006 # kg\n",
    "m_Argon_err = 0.000002 # kg\n",
    "\n",
    "V_Luft = 5370 / (100*100*100) # m^3\n",
    "V_Luft_err = 5 / (100*100*100) # m^3\n",
    "V_Argon = 5460 / (100*100*100) # m^3\n",
    "V_Argon_err = 5 / (100*100*100) # m^3\n",
    "\n",
    "r_Luft = 15.95 / 1000 / 2 # m\n",
    "r_Luft_err = 0.02 / 1000 / 2 # m\n",
    "r_Argon = 15.97 / 1000 / 2 # m\n",
    "r_Argon_err = 0.05 / 1000 / 2 # m\n",
    "\n",
    "p_0 = 101080 # Pa\n",
    "p_0_err = 10 # Pa\n",
    "\n",
    "p_Luft = p_0 + m_Luft * 9.81 / (np.pi * r_Luft**2)\n",
    "p_Luft_err = np.sqrt( ( p_0_err )**2 + ( m_Luft_err * 9.81 / (np.pi * r_Luft**2) )**2 + ( 2 * m_Luft * 9.81 * r_Luft_err / (np.pi * r_Luft**3) )**2 )\n",
    "p_Argon =p_0 + m_Argon * 9.81 / (np.pi * r_Argon**2)\n",
    "p_Argon_err =np.sqrt( ( p_0_err )**2 + ( m_Argon_err * 9.81 / (np.pi * r_Argon**2) )**2 + ( 2 * m_Argon * 9.81 * r_Argon_err / (np.pi * r_Argon**3) )**2 )\n",
    "\n",
    "print(\"Druck Luft: \", p_Luft, \"+-\", p_Luft_err, \"Pa\")\n",
    "print(\"Druck Argon: \", p_Argon, \"+-\", p_Argon_err, \"Pa\")"
   ]
  },
  {
   "cell_type": "code",
   "execution_count": 5,
   "metadata": {},
   "outputs": [
    {
     "name": "stdout",
     "output_type": "stream",
     "text": [
      "Periodendauern: Luft: 0.978 [s] Argon: 0.9394 [s]\n",
      "Fehler Periodendauern: Luft: 0.012 [s] Argon: 0.012 [s]\n"
     ]
    }
   ],
   "source": [
    "# Nun bestimmen wir die Periodendauer\n",
    "T_Luft = t_Luft / 50\n",
    "T_Argon = t_Argon / 50\n",
    "T_err = t_err / 50\n",
    "\n",
    "print(\"Periodendauern: Luft:\", T_Luft, \"[s]\", \"Argon:\", T_Argon, \"[s]\")\n",
    "print(\"Fehler Periodendauern: Luft:\", T_err, \"[s]\", \"Argon:\", T_err, \"[s]\")"
   ]
  },
  {
   "cell_type": "code",
   "execution_count": 6,
   "metadata": {},
   "outputs": [
    {
     "name": "stdout",
     "output_type": "stream",
     "text": [
      "Adiabatenkoeffizient Luft:  1.416448343846403\n",
      "Adiabatenkoeffizient Argon:  1.5467572286371283\n"
     ]
    }
   ],
   "source": [
    "# Wir definieren Funktionen für den Adiabatenkoeffizienten, sowie Funktionen für die Fehlerrechnung\n",
    "def adiabatenkoeff(m, V, r, T, p):\n",
    "    return (4*m*V)/(r**4 * T**2 * p)\n",
    "\n",
    "def errorFrac(x, x_err, p):\n",
    "    return (x_err * p)/x\n",
    "\n",
    "def adiabatenkoefferr(m_errfrac, V_errfrac, r_errfrac, T_errfrac, p_errfrac, adiabatenkoeff):\n",
    "    return np.sqrt(m_errfrac**2 + V_errfrac**2 + r_errfrac**2 + T_errfrac**2 + p_errfrac**2) * adiabatenkoeff\n",
    "\n",
    "# Wir berechnen die Werte\n",
    "kappa_r_Luft = adiabatenkoeff(m_Luft, V_Luft, r_Luft, T_Luft, p_Luft)\n",
    "kappa_r_Argon = adiabatenkoeff(m_Argon, V_Argon, r_Argon, T_Argon, p_Argon)\n",
    "\n",
    "print(\"Adiabatenkoeffizient Luft: \", kappa_r_Luft)\n",
    "print(\"Adiabatenkoeffizient Argon: \", kappa_r_Argon)"
   ]
  },
  {
   "cell_type": "code",
   "execution_count": 7,
   "metadata": {},
   "outputs": [
    {
     "name": "stdout",
     "output_type": "stream",
     "text": [
      "Fehler Adiab. Luft:  0.03550304263655772\n",
      "Fehler Adiab. Argon:  0.04403260551764061\n"
     ]
    }
   ],
   "source": [
    "# Nun die Fehlerrechnung\n",
    "m_errfrac_Luft = errorFrac(m_Luft, m_Luft_err, 1)\n",
    "m_errfrac_Argon = errorFrac(m_Argon, m_Argon_err, 1)\n",
    "\n",
    "V_errfrac_Luft = errorFrac(V_Luft, V_Luft_err, 1)\n",
    "V_errfrac_Argon = errorFrac(V_Argon, V_Argon_err, 1)\n",
    "\n",
    "r_errfrac_Luft = errorFrac(r_Luft, r_Luft_err, 4)\n",
    "r_errfrac_Argon = errorFrac(r_Argon, r_Argon_err, 4)\n",
    "\n",
    "T_errfrac_Luft = errorFrac(T_Luft, T_err, 2)\n",
    "T_errfrac_Argon = errorFrac(T_Argon, T_err, 2)\n",
    "\n",
    "p_errfrac_Luft = errorFrac(p_Luft, p_Luft_err, 1)\n",
    "p_errfrac_Argon = errorFrac(p_Argon, p_Argon_err, 1)\n",
    "\n",
    "kappa_r_Luft_err = adiabatenkoefferr(m_errfrac_Luft,V_errfrac_Luft,r_errfrac_Luft,T_errfrac_Luft,p_errfrac_Luft,kappa_r_Luft)\n",
    "kappa_r_Argon_err = adiabatenkoefferr(m_errfrac_Argon,V_errfrac_Argon,r_errfrac_Argon,T_errfrac_Argon,p_errfrac_Argon,kappa_r_Argon)\n",
    "\n",
    "print(\"Fehler Adiab. Luft: \", kappa_r_Luft_err)\n",
    "print(\"Fehler Adiab. Argon: \", kappa_r_Argon_err)"
   ]
  },
  {
   "cell_type": "markdown",
   "metadata": {},
   "source": [
    "Damit sind unsere Ergebnisse: <br>\n",
    "$\\kappa_{r,Luft} = 1.42 \\pm 0.04 $ <br>\n",
    "$\\kappa_{r,Argon} = 1.55 \\pm 0.04 $"
   ]
  },
  {
   "cell_type": "markdown",
   "metadata": {},
   "source": [
    "## 3. Vergleichen der Werte\n",
    "Wir bestimmen die $\\sigma$-Abweichungen der Werte untereinander und mit den Literaturwerten."
   ]
  },
  {
   "cell_type": "code",
   "execution_count": 8,
   "metadata": {},
   "outputs": [
    {
     "name": "stdout",
     "output_type": "stream",
     "text": [
      "Abweichung der von uns berechneten Werte aus beiden Methoden:  0.2648454089293676\n",
      "Abweichung Clémont-Desormes Wert (Luft) und Literaturwert:  0.3708800809738744\n",
      "Abweichung Rüchardt Wert (Luft) und Literaturwert:  0.46329392144734594\n",
      "Abweichung Rüchardt Wert (Argon) und Literaturwert:  2.2992682393575627\n"
     ]
    }
   ],
   "source": [
    "kappa_Luft_lit = 1.4\n",
    "kappa_Argon_lit = 1.648\n",
    "\n",
    "sigma_cd_Luft_r_Luft = (kappa_cd_mean - kappa_r_Luft)/(np.sqrt(kappa_cd_mean_err**2 + kappa_r_Luft_err**2))\n",
    "\n",
    "print(\"Abweichung der von uns berechneten Werte aus beiden Methoden: \", sigma_cd_Luft_r_Luft)\n",
    "\n",
    "sigma_cd_Luft_lit = (kappa_cd_mean - kappa_Luft_lit)/kappa_cd_mean_err\n",
    "\n",
    "print(\"Abweichung Clémont-Desormes Wert (Luft) und Literaturwert: \", sigma_cd_Luft_lit)\n",
    "\n",
    "sigma_r_Luft_lit = (kappa_r_Luft - kappa_Luft_lit)/kappa_r_Luft_err\n",
    "\n",
    "print(\"Abweichung Rüchardt Wert (Luft) und Literaturwert: \", sigma_r_Luft_lit)\n",
    "\n",
    "sigma_r_Argon_lit = (kappa_Argon_lit - kappa_r_Argon)/kappa_r_Argon_err\n",
    "\n",
    "print(\"Abweichung Rüchardt Wert (Argon) und Literaturwert: \", sigma_r_Argon_lit)"
   ]
  },
  {
   "cell_type": "markdown",
   "metadata": {},
   "source": [
    "Unsere Messwerte stimmen also alle innerhalb der Fehlergrenzen überein."
   ]
  },
  {
   "cell_type": "code",
   "execution_count": null,
   "metadata": {},
   "outputs": [],
   "source": []
  },
  {
   "cell_type": "code",
   "execution_count": null,
   "metadata": {},
   "outputs": [],
   "source": []
  }
 ],
 "metadata": {
  "kernelspec": {
   "display_name": "Python 3",
   "language": "python",
   "name": "python3"
  },
  "language_info": {
   "codemirror_mode": {
    "name": "ipython",
    "version": 3
   },
   "file_extension": ".py",
   "mimetype": "text/x-python",
   "name": "python",
   "nbconvert_exporter": "python",
   "pygments_lexer": "ipython3",
   "version": "3.8.5"
  }
 },
 "nbformat": 4,
 "nbformat_minor": 4
}
