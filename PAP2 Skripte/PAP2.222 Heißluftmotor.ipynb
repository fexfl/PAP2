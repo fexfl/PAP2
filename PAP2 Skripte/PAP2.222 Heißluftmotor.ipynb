{
 "cells": [
  {
   "cell_type": "markdown",
   "metadata": {},
   "source": [
    "# Versuch 222 Heißluftmotor - Auswertung\n",
    "##### Felix Fleischle - 15.11.2021"
   ]
  },
  {
   "cell_type": "code",
   "execution_count": 1,
   "metadata": {},
   "outputs": [],
   "source": [
    "import numpy as np\n",
    "import matplotlib.pyplot as plt\n",
    "from scipy.optimize import curve_fit"
   ]
  },
  {
   "cell_type": "markdown",
   "metadata": {},
   "source": [
    "## Betrieb als Kältemaschine\n",
    "Wir wollen die Kälteleistung des Motors berechnen, und die Energiebilanz aufstellen."
   ]
  },
  {
   "cell_type": "code",
   "execution_count": 2,
   "metadata": {},
   "outputs": [],
   "source": [
    "# Unsere Messdaten:\n",
    "f_km = 294.4 / 60 #Drehzahl in 1/s\n",
    "f_km_err = 1 / 60\n",
    "\n",
    "U_H_km = 5.37\n",
    "U_H_km_err = 0.01\n",
    "\n",
    "I_H_km = 1.04 * 5\n",
    "I_H_km_err = 0.01 * 5\n",
    "\n",
    "V_punkt_km = 264 / (60 * 10**(6)) # l/s\n",
    "V_punkt_km_err = 3 / (60 * 10**(6))\n",
    "\n",
    "U_M_km = 23.9\n",
    "U_M_km_err = 0.1\n",
    "\n",
    "I_M_km = 1.7\n",
    "I_M_km_err = 0.1\n",
    "\n",
    "T_1_km = 20.1 + 273.15\n",
    "T_1_km_err = 0.1\n",
    "\n",
    "T_2_km = 17.1 + 273.15\n",
    "T_2_km_err = 0.1\n",
    "\n",
    "T_3_km = 20 + 273.15\n",
    "T_3_km_err = 0.1\n",
    "\n",
    "c_W = 4180 # J/kgK\n",
    "rho_W = 997 # kg/m^3"
   ]
  },
  {
   "cell_type": "code",
   "execution_count": 3,
   "metadata": {},
   "outputs": [
    {
     "name": "stdout",
     "output_type": "stream",
     "text": [
      "Q_1: 11.211373369565218 +- 0.5449802686412554 [J]\n"
     ]
    }
   ],
   "source": [
    "# Wir berechnen Q_1\n",
    "Q_1_km = (c_W * rho_W * V_punkt_km * (T_1_km - T_2_km))/(f_km)\n",
    "\n",
    "def errorFrac(x, x_err, p):\n",
    "    return (x_err * p)/x\n",
    "\n",
    "V_punkt_km_errfrac = errorFrac(V_punkt_km , V_punkt_km_err, 1)\n",
    "Delta_T_km_errfrac = errorFrac((T_1_km - T_2_km), np.sqrt(T_1_km_err**2 + T_2_km_err**2), 1)\n",
    "f_km_errfrac = errorFrac(f_km, f_km_err, 1)\n",
    "\n",
    "Q_1_km_err = np.sqrt(V_punkt_km_errfrac**2 + Delta_T_km_errfrac**2 + f_km_errfrac**2) * Q_1_km\n",
    "\n",
    "print(\"Q_1:\", Q_1_km, \"+-\", Q_1_km_err, \"[J]\")"
   ]
  },
  {
   "cell_type": "code",
   "execution_count": 4,
   "metadata": {},
   "outputs": [
    {
     "name": "stdout",
     "output_type": "stream",
     "text": [
      "Q_2: 5.691032608695653 +- 0.058995242698796156 [J]\n",
      "Kälteleistung: 27.924000000000003 +- 0.27348903085864346 [J/s]\n"
     ]
    }
   ],
   "source": [
    "# Wir berechnen Q_2 und die Kälteleistung\n",
    "Q_2_km = (U_H_km * I_H_km)/f_km\n",
    "P_H_km = (U_H_km * I_H_km)\n",
    "\n",
    "U_H_km_errfrac = errorFrac(U_H_km , U_H_km_err , 1)\n",
    "I_H_km_errfrac = errorFrac(I_H_km , I_H_km_err , 1)\n",
    "\n",
    "Q_2_km_err = np.sqrt(U_H_km_errfrac**2 + I_H_km_errfrac**2 + f_km_errfrac**2) * Q_2_km\n",
    "P_H_km_err = np.sqrt(U_H_km_errfrac**2 + I_H_km_errfrac**2) * P_H_km\n",
    "\n",
    "print(\"Q_2:\", Q_2_km, \"+-\", Q_2_km_err, \"[J]\")\n",
    "print(\"Kälteleistung:\", P_H_km, \"+-\", P_H_km_err, \"[J/s]\")"
   ]
  },
  {
   "cell_type": "code",
   "execution_count": 5,
   "metadata": {},
   "outputs": [
    {
     "name": "stdout",
     "output_type": "stream",
     "text": [
      "W_M: 8.280570652173912 +- 0.4891324144444677 [J]\n"
     ]
    }
   ],
   "source": [
    "# Wir berechnen W_M\n",
    "W_M_km = (U_M_km * I_M_km)/f_km\n",
    "\n",
    "U_M_km_errfrac = errorFrac(U_M_km , U_M_km_err , 1)\n",
    "I_M_km_errfrac = errorFrac(I_M_km , I_M_km_err , 1)\n",
    "\n",
    "W_M_km_err = np.sqrt(U_M_km_errfrac**2 + I_M_km_errfrac**2 + f_km_errfrac**2) * W_M_km\n",
    "\n",
    "print(\"W_M:\", W_M_km, \"+-\", W_M_km_err, \"[J]\")"
   ]
  },
  {
   "cell_type": "code",
   "execution_count": 6,
   "metadata": {},
   "outputs": [
    {
     "name": "stdout",
     "output_type": "stream",
     "text": [
      "Differenz der Energiebilanz: 2.7602298913043466 +- 0.7346662172236174 [J]\n",
      "Sigma-Abweichung: 3.7571210252943876\n"
     ]
    }
   ],
   "source": [
    "# Es sollte sein: Q_1 = Q_2 + W_M. Wir prüfen:\n",
    "E_km_diff = Q_2_km + W_M_km - Q_1_km\n",
    "E_km_diff_err = np.sqrt(Q_2_km_err**2 + W_M_km_err**2 + Q_1_km_err**2)\n",
    "\n",
    "print(\"Differenz der Energiebilanz:\", E_km_diff, \"+-\", E_km_diff_err, \"[J]\" )\n",
    "\n",
    "# Abweichung:\n",
    "sigma_E_km_diff = E_km_diff / E_km_diff_err\n",
    "\n",
    "print(\"Sigma-Abweichung:\", sigma_E_km_diff)"
   ]
  },
  {
   "cell_type": "code",
   "execution_count": 7,
   "metadata": {},
   "outputs": [
    {
     "name": "stdout",
     "output_type": "stream",
     "text": [
      "Wirkungsgrad: 0.6872754122569531 +- 0.04121769700974085\n"
     ]
    }
   ],
   "source": [
    "# Wir berechnen noch den Wirkungsgrad\n",
    "eta_km = Q_2_km / W_M_km\n",
    "eta_km_err = np.sqrt((Q_2_km_err / W_M_km)**2 + (Q_2_km * W_M_km_err / (W_M_km)**2)**2)\n",
    "\n",
    "print(\"Wirkungsgrad:\", eta_km, \"+-\", eta_km_err)"
   ]
  },
  {
   "cell_type": "markdown",
   "metadata": {},
   "source": [
    "## Betrieb als Kältemaschine und Wärmepumpe\n",
    "Berechnung der Kälteleistung: $P_{km} = \\frac{\\lambda_{H2O}m_W}{t_{gef}} $"
   ]
  },
  {
   "cell_type": "code",
   "execution_count": 8,
   "metadata": {},
   "outputs": [
    {
     "name": "stdout",
     "output_type": "stream",
     "text": [
      "Kälteleistung: 1.669975 +- 0.08349875 [J/s]\n"
     ]
    }
   ],
   "source": [
    "# Wir bestimmen aus dem Temperaturverlauf die Gefrierzeit zu\n",
    "t_gef = 200 #s\n",
    "t_gef_err = 10\n",
    "\n",
    "lmbda_h2o = 335 * 1000 #J/kg\n",
    "V_W = 1*10**(-6) #m^3\n",
    "\n",
    "m_W = rho_W * V_W\n",
    "\n",
    "P_km = lmbda_h2o * m_W / t_gef\n",
    "P_km_err = np.sqrt((lmbda_h2o * m_W * t_gef_err / (t_gef)**2)**2)\n",
    "\n",
    "print(\"Kälteleistung:\", P_km, \"+-\", P_km_err, \"[J/s]\")"
   ]
  },
  {
   "cell_type": "markdown",
   "metadata": {},
   "source": [
    "## Betrieb als Wärmekraftmaschine\n"
   ]
  },
  {
   "cell_type": "code",
   "execution_count": 9,
   "metadata": {},
   "outputs": [
    {
     "name": "stdout",
     "output_type": "stream",
     "text": [
      "Gemittelte Drehzahl: 4.070555555555556 +- 0.06139496366792646 [1/s]\n",
      "Gemittelte Arbeit pV: 2.6246666666666667 +- 0.043666242576396945 [Pa/m^3]\n"
     ]
    }
   ],
   "source": [
    "# Unsere Messwerte\n",
    "U_H_wk = 12.27 #V\n",
    "U_H_wk_err = 0.01\n",
    "\n",
    "I_H_wk = 2.68 * 5 #A\n",
    "I_H_wk_err = 0.01 * 5\n",
    "\n",
    "f_wk_array = np.array([253 , 241.7 , 238]) / 60 # 1/s\n",
    "f_wk = np.mean(f_wk_array)\n",
    "f_wk_err = np.std(f_wk_array) / np.sqrt(3)\n",
    "\n",
    "print(\"Gemittelte Drehzahl:\", f_wk, \"+-\", f_wk_err, \"[1/s]\")\n",
    "\n",
    "delta_T_wk = 6 #K\n",
    "delta_T_wk_err = 0.5 #K\n",
    "\n",
    "W_pV_wk_array = np.array([25350*10**(-4) , 27200*10**(-4) , 26190*10**(-4)]) #Pa m^3\n",
    "W_pV_wk = np.mean(W_pV_wk_array)\n",
    "W_pV_wk_err = np.std(W_pV_wk_array) / np.sqrt(3)\n",
    "\n",
    "print(\"Gemittelte Arbeit pV:\", W_pV_wk, \"+-\", W_pV_wk_err, \"[Pa/m^3]\")\n",
    "\n",
    "V_punkt_wk = 279 / (60 * 10**(6))\n",
    "V_punkt_wk_err = 4 / (60 * 10**(6))"
   ]
  },
  {
   "cell_type": "code",
   "execution_count": 10,
   "metadata": {},
   "outputs": [
    {
     "name": "stdout",
     "output_type": "stream",
     "text": [
      "P_el: 164.418 +- 0.6279635737843399 [J/s]\n",
      "Q_el: 40.392029480005455 +- 0.6284498062049172 [J]\n",
      "P_ab: 116.27213400000001 +- 9.831695301215161 [J/s]\n",
      "Q_ab: 28.56419287566535 +- 2.4534429359826446 [J]\n",
      "P_pV: 10.683851481481483 +- 0.23991689451597278 [J/s]\n",
      "eta_th: 0.06497981657410674 +- 0.001480143299182087\n"
     ]
    }
   ],
   "source": [
    "# Wir berechnen: P_el, Q_el, P_ab, Q_ab, P_pV, eta_th\n",
    "\n",
    "P_el = U_H_wk * I_H_wk\n",
    "P_el_err = np.sqrt((U_H_wk * I_H_wk_err)**2 + (U_H_wk_err * I_H_wk)**2)\n",
    "print(\"P_el:\", P_el, \"+-\", P_el_err, \"[J/s]\")\n",
    "\n",
    "Q_el = P_el / f_wk\n",
    "Q_el_err = np.sqrt((P_el_err / f_wk)**2 + (P_el * f_wk_err / (f_wk)**2)**2)\n",
    "print(\"Q_el:\", Q_el, \"+-\", Q_el_err, \"[J]\")\n",
    "\n",
    "P_ab = c_W * rho_W * delta_T_wk * V_punkt_wk\n",
    "P_ab_err = np.sqrt((c_W * rho_W * delta_T_wk_err * V_punkt_wk)**2 + (c_W * rho_W * delta_T_wk * V_punkt_wk_err)**2)\n",
    "print(\"P_ab:\", P_ab, \"+-\", P_ab_err, \"[J/s]\")\n",
    "\n",
    "Q_ab = P_ab / f_wk\n",
    "Q_ab_err = np.sqrt((P_ab_err / f_wk)**2 + (P_ab * f_wk_err / (f_wk)**2)**2)\n",
    "print(\"Q_ab:\", Q_ab, \"+-\", Q_ab_err, \"[J]\")\n",
    "\n",
    "P_pV = W_pV_wk * f_wk\n",
    "P_pV_err = np.sqrt((W_pV_wk_err * f_wk)**2 + (W_pV_wk * f_wk_err)**2)\n",
    "print(\"P_pV:\", P_pV, \"+-\", P_pV_err, \"[J/s]\")\n",
    "\n",
    "eta_th = W_pV_wk / Q_el\n",
    "eta_th_err = np.sqrt((W_pV_wk_err / Q_el)**2 + (W_pV_wk * Q_el_err / (Q_el)**2)**2)\n",
    "print(\"eta_th:\", eta_th, \"+-\", eta_th_err)"
   ]
  },
  {
   "cell_type": "code",
   "execution_count": 11,
   "metadata": {},
   "outputs": [
    {
     "name": "stdout",
     "output_type": "stream",
     "text": [
      "Energieverluste: 9.203169937673437 +- 2.5330294391859876 [J]\n"
     ]
    }
   ],
   "source": [
    "# Energiebilanz Q_el = Q_v + W_pV + Q_ab + Q_R, Q_V = Q_v + Q_R\n",
    "Q_V = Q_el - W_pV_wk - Q_ab\n",
    "Q_V_err = np.sqrt(Q_el_err**2 + W_pV_wk_err**2 + Q_ab_err**2)\n",
    "print(\"Energieverluste:\", Q_V, \"+-\", Q_V_err, \"[J]\")"
   ]
  },
  {
   "cell_type": "code",
   "execution_count": 12,
   "metadata": {},
   "outputs": [],
   "source": [
    "# Drehmomentmessung und Bestimmung von W_D, W_pV_dreh, eta_th_dreh und eta_eff\n",
    "\n",
    "# Berechnung der Mittelwerte\n",
    "#0.8N\n",
    "f_08_array = np.array([185.5 , 160.1 , 168]) / 60 #1/s\n",
    "f_08 = np.mean(f_08_array)\n",
    "f_08_err = np.std(f_08_array)/np.sqrt(3)\n",
    "\n",
    "W_pV_08_array = np.array([3.435 , 3.334 , 3.337]) # Pa m^3\n",
    "W_pV_08 = np.mean(W_pV_08_array)\n",
    "W_pV_08_err = np.std(W_pV_08_array)/np.sqrt(3)\n",
    "\n",
    "#0.6N\n",
    "f_06_array = np.array([197.1 , 194.1 , 201.4]) / 60 #1/s\n",
    "f_06 = np.mean(f_06_array)\n",
    "f_06_err = np.std(f_06_array)/np.sqrt(3)\n",
    "\n",
    "W_pV_06_array = np.array([3.135 , 3.134 , 3.14]) # Pa m^3\n",
    "W_pV_06 = np.mean(W_pV_06_array)\n",
    "W_pV_06_err = np.std(W_pV_06_array)/np.sqrt(3)\n",
    "\n",
    "#0.4N\n",
    "f_04_array = np.array([262.8 , 255.3 , 256.8]) / 60 #1/s\n",
    "f_04 = np.mean(f_04_array)\n",
    "f_04_err = np.std(f_04_array)/np.sqrt(3)\n",
    "\n",
    "W_pV_04_array = np.array([3.328 , 3.232 , 3.3]) # Pa m^3\n",
    "W_pV_04 = np.mean(W_pV_04_array)\n",
    "W_pV_04_err = np.std(W_pV_04_array)/np.sqrt(3)\n",
    "\n",
    "#0.2N\n",
    "f_02_array = np.array([306.3 , 303.2 , 301.8]) / 60 #1/s\n",
    "f_02 = np.mean(f_02_array)\n",
    "f_02_err = np.std(f_02_array)/np.sqrt(3)\n",
    "\n",
    "W_pV_02_array = np.array([3.161 , 3.143 , 3.112]) # Pa m^3\n",
    "W_pV_02 = np.mean(W_pV_02_array)\n",
    "W_pV_02_err = np.std(W_pV_02_array)/np.sqrt(3)"
   ]
  },
  {
   "cell_type": "code",
   "execution_count": 13,
   "metadata": {},
   "outputs": [
    {
     "name": "stdout",
     "output_type": "stream",
     "text": [
      "Mechanische Arbeiten:  [0.50265482 0.37699112 0.25132741 0.12566371] +- [0.00628319 0.00628319 0.00628319 0.00628319] [J]\n",
      "W_pV Mittelwerte: [3.36866667 3.13633333 3.28666667 3.13866667] +- [0.0270897  0.00151535 0.02327294 0.01168411] [Pam^3]\n",
      "eta_th Drehmomentmessung: [0.08339929 0.07764733 0.08136919 0.0777051 ] +- [0.00146066 0.00120868 0.00139095 0.00124312]\n",
      "eta_eff: [0.01244441 0.0093333  0.0062222  0.0031111 ] +- [0.00024837 0.0002128  0.00018322 0.00016291]\n"
     ]
    }
   ],
   "source": [
    "# Wir berechnen W_D = 2*pi*l*F\n",
    "l = 0.2 * 0.5 #m\n",
    "F = np.array([0.8 , 0.6 , 0.4 , 0.2])#N\n",
    "F_err = np.ones(4)*0.01\n",
    "\n",
    "W_D_array = 2*np.pi*l*F\n",
    "W_D_array_err = 2*np.pi*l*F_err\n",
    "print(\"Mechanische Arbeiten: \",W_D_array, \"+-\", W_D_array_err, \"[J]\")\n",
    "\n",
    "# Wir berechnen eta_th_dreh = W_pV_dreh / Q_el\n",
    "W_pV_dreh = np.array([W_pV_08, W_pV_06 , W_pV_04 , W_pV_02])\n",
    "W_pV_dreh_err = np.array([W_pV_08_err, W_pV_06_err , W_pV_04_err , W_pV_02_err])\n",
    "\n",
    "print(\"W_pV Mittelwerte:\",W_pV_dreh,\"+-\",W_pV_dreh_err,\"[Pam^3]\")\n",
    "\n",
    "eta_th_dreh = W_pV_dreh / Q_el\n",
    "eta_th_dreh_err = np.sqrt((W_pV_dreh_err / Q_el)**2 + (W_pV_dreh * Q_el_err / (Q_el)**2)**2)\n",
    "\n",
    "print(\"eta_th Drehmomentmessung:\", eta_th_dreh, \"+-\", eta_th_dreh_err)\n",
    "\n",
    "# Wir berechnen eta_eff = W_D / Q_el\n",
    "\n",
    "eta_eff = W_D_array / Q_el\n",
    "eta_eff_err = np.sqrt((W_D_array_err / Q_el)**2 + (W_D_array * Q_el_err / (Q_el)**2)**2)\n",
    "print(\"eta_eff:\", eta_eff, \"+-\", eta_eff_err)"
   ]
  },
  {
   "cell_type": "code",
   "execution_count": 14,
   "metadata": {},
   "outputs": [
    {
     "data": {
      "text/plain": [
       "Text(0, 0.5, '$\\\\eta_{th}$')"
      ]
     },
     "execution_count": 14,
     "metadata": {},
     "output_type": "execute_result"
    },
    {
     "data": {
      "image/png": "[encoded data removed]",
      "text/plain": [
       "<Figure size 640x480 with 1 Axes>"
      ]
     },
     "metadata": {
      "needs_background": "light"
     },
     "output_type": "display_data"
    }
   ],
   "source": [
    "# Wir tragen eta_th und eta_eff als Funktion der Frequenz auf:\n",
    "f_array = np.array([f_08 , f_06 , f_04 , f_02])\n",
    "f_array_err = np.array([f_08_err , f_06_err , f_04_err , f_02_err])\n",
    "\n",
    "plt.figure(figsize=(8, 6), dpi=80)\n",
    "plt.errorbar(f_array, eta_th_dreh, linestyle=\"None\", marker = \".\", yerr = eta_th_dreh_err, xerr = f_array_err , capsize = 2, label=\"eta_th(f)\")\n",
    "plt.title(\"Diagramm 1: eta_th als Funktion der Drehzahl\")\n",
    "plt.legend()\n",
    "plt.xlabel(\"$f$\")\n",
    "plt.ylabel(\"$\\eta_{th}$\")"
   ]
  },
  {
   "cell_type": "code",
   "execution_count": 15,
   "metadata": {},
   "outputs": [
    {
     "data": {
      "text/plain": [
       "Text(0, 0.5, '$\\\\eta_{eff}$')"
      ]
     },
     "execution_count": 15,
     "metadata": {},
     "output_type": "execute_result"
    },
    {
     "data": {
      "image/png": "[encoded data removed]",
      "text/plain": [
       "<Figure size 640x480 with 1 Axes>"
      ]
     },
     "metadata": {
      "needs_background": "light"
     },
     "output_type": "display_data"
    }
   ],
   "source": [
    "plt.figure(figsize=(8, 6), dpi=80)\n",
    "plt.errorbar(f_array, eta_eff, linestyle=\"None\", marker = \".\", yerr = eta_eff_err, xerr = f_array_err , capsize = 2, label=\"eta_eff(f)\", color = \"green\")\n",
    "plt.title(\"Diagramm 2: eta_eff als Funktion der Drehzahl\")\n",
    "plt.legend()\n",
    "plt.xlabel(\"$f$\")\n",
    "plt.ylabel(\"$\\eta_{eff}$\")"
   ]
  },
  {
   "cell_type": "code",
   "execution_count": null,
   "metadata": {},
   "outputs": [],
   "source": []
  },
  {
   "cell_type": "code",
   "execution_count": null,
   "metadata": {},
   "outputs": [],
   "source": []
  }
 ],
 "metadata": {
  "kernelspec": {
   "display_name": "Python 3",
   "language": "python",
   "name": "python3"
  },
  "language_info": {
   "codemirror_mode": {
    "name": "ipython",
    "version": 3
   },
   "file_extension": ".py",
   "mimetype": "text/x-python",
   "name": "python",
   "nbconvert_exporter": "python",
   "pygments_lexer": "ipython3",
   "version": "3.8.5"
  }
 },
 "nbformat": 4,
 "nbformat_minor": 4
}
