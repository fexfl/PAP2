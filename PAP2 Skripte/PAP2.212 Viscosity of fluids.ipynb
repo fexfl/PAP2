{
 "cells": [
  {
   "cell_type": "markdown",
   "metadata": {},
   "source": [
    "# Viscosity of fluids - Analysis\n",
    "\n",
    "##### Felix Fleischle - 18.10.2021 <br>\n",
    "<br>\n",
    "This is my first analysis done with Python, so there are probably many ways to do this way more efficient, like putting all the values into arrays, which i did not realize until later, so apologies for the redundancies."
   ]
  },
  {
   "cell_type": "markdown",
   "metadata": {},
   "source": [
    "## Determination of the viscosity with the falling sphere viscometer\n",
    "For the first part of the experiment, we will put our measured data for each diameter into an array:"
   ]
  },
  {
   "cell_type": "code",
   "execution_count": 1,
   "metadata": {},
   "outputs": [],
   "source": [
    "# First we import the necessary libraries\n",
    "import numpy as np\n",
    "import matplotlib.pyplot as plt\n",
    "from scipy.optimize import curve_fit\n",
    "%matplotlib qt5"
   ]
  },
  {
   "cell_type": "code",
   "execution_count": 2,
   "metadata": {},
   "outputs": [
    {
     "name": "stdout",
     "output_type": "stream",
     "text": [
      "Times:  [8.81 8.64 8.72 8.67 8.61] [s]\n",
      "Times error:  0.3 s\n"
     ]
    }
   ],
   "source": [
    "# Now we enter our data into numpy arrays and set the distances over which the times were measured.\n",
    "# Additionally, we will enter the errors of the measured numbers.\n",
    "# The time error is equal to 0.3s due to reaction time.\n",
    "\n",
    "times_2mm = np.array([8.81 , 8.64 , 8.72 , 8.67 , 8.61])\n",
    "distance_2mm = 0.02   # Unit is meters\n",
    "\n",
    "times_3mm = np.array([4.37 , 4.04 , 4.51 , 4.36 , 4.37])\n",
    "distance_3mm = 0.02\n",
    "\n",
    "times_4mm = np.array([6.42 , 6.58 , 6.31 , 6.82 , 6.34])\n",
    "distance_4mm = 0.05\n",
    "\n",
    "times_5mm = np.array([4.14 , 4.18 , 4.45 , 4.17 , 4.34])\n",
    "distance_5mm = 0.05\n",
    "\n",
    "times_6mm = np.array([3.10 , 3.18 , 3.15 , 3.26 , 3.50])\n",
    "distance_6mm = 0.05\n",
    "\n",
    "times_7144mm = np.array([4.59 , 4.42 , 4.48 , 4.43 , 4.62])\n",
    "distance_7144mm = 0.1\n",
    "\n",
    "times_8mm = np.array([8.12 , 8.20 , 8.12 , 7.92 , 8.15])\n",
    "distance_8mm = 0.2\n",
    "\n",
    "times_9mm = np.array([6.37 , 6.29 , 6.20 , 6.45 , 6.14])\n",
    "distance_9mm = 0.2\n",
    "\n",
    "# We create an array for the distances\n",
    "distancearr = np.array([distance_2mm , distance_3mm , distance_4mm , distance_5mm , distance_6mm , distance_7144mm , distance_8mm , distance_9mm])\n",
    "\n",
    "# Errors\n",
    "err_times = 0.3\n",
    "err_distance = 0.002\n",
    "\n",
    "# Now we will set the temperature, which remained constant throughout the experiment.\n",
    "T = 22\n",
    "err_T = 1\n",
    "\n",
    "# Room Temperature\n",
    "T_0 = 21.7\n",
    "err_T_0 = 0.1\n",
    "\n",
    "# Inner diameter of the pipe\n",
    "d_inner = 0.075   # again in meters\n",
    "\n",
    "# We print two examples, to see if our arrays were correctly created\n",
    "print(\"Times: \",times_2mm, \"[s]\")\n",
    "print(\"Times error: \",err_times, \"s\")"
   ]
  },
  {
   "cell_type": "markdown",
   "metadata": {},
   "source": [
    "Now we can calculate the mean sinking velocity for each diameter:\n",
    "The velocity is equal to $v=\\frac{\\Delta s}{\\Delta t}$"
   ]
  },
  {
   "cell_type": "code",
   "execution_count": 3,
   "metadata": {},
   "outputs": [
    {
     "name": "stdout",
     "output_type": "stream",
     "text": [
      "Mean velocities:  [0.00230165 0.00462511 0.00770574 0.01175722 0.01546969 0.02219015\n",
      " 0.02468875 0.03180656] [m/s]\n"
     ]
    }
   ],
   "source": [
    "# We define a function that calculates the velocities\n",
    "def velocityarray(distance, times):\n",
    "    return distance / times\n",
    "# We define another function that calculates the standard deviation of the mean\n",
    "def stdmeanvelocity(velocities, a):\n",
    "    return np.std(velocities)/np.sqrt(a)\n",
    "\n",
    "velocities_2mm = velocityarray(distance_2mm, times_2mm) # Units are meters per second\n",
    "meanvelocity_2mm = np.mean(velocities_2mm) # Mean\n",
    "stdmeanvelocity_2mm = stdmeanvelocity(velocities_2mm, 5) # Standard deviation of the mean\n",
    "\n",
    "velocities_3mm = velocityarray(distance_3mm, times_3mm)\n",
    "meanvelocity_3mm = np.mean(velocities_3mm)\n",
    "stdmeanvelocity_3mm = stdmeanvelocity(velocities_3mm, 5)\n",
    "\n",
    "velocities_4mm = velocityarray(distance_4mm, times_4mm)\n",
    "meanvelocity_4mm = np.mean(velocities_4mm)\n",
    "stdmeanvelocity_4mm = stdmeanvelocity(velocities_4mm, 5)\n",
    "\n",
    "velocities_5mm = velocityarray(distance_5mm, times_5mm)\n",
    "meanvelocity_5mm = np.mean(velocities_5mm)\n",
    "stdmeanvelocity_5mm = stdmeanvelocity(velocities_5mm, 5)\n",
    "\n",
    "velocities_6mm = velocityarray(distance_6mm, times_6mm)\n",
    "meanvelocity_6mm = np.mean(velocities_6mm)\n",
    "stdmeanvelocity_6mm = stdmeanvelocity(velocities_6mm, 5)\n",
    "\n",
    "velocities_7144mm = velocityarray(distance_7144mm, times_7144mm)\n",
    "meanvelocity_7144mm = np.mean(velocities_7144mm)\n",
    "stdmeanvelocity_7144mm = stdmeanvelocity(velocities_7144mm, 5)\n",
    "\n",
    "velocities_8mm = velocityarray(distance_8mm, times_8mm)\n",
    "meanvelocity_8mm = np.mean(velocities_8mm)\n",
    "stdmeanvelocity_8mm = stdmeanvelocity(velocities_8mm, 5)\n",
    "\n",
    "velocities_9mm = velocityarray(distance_9mm, times_9mm)\n",
    "meanvelocity_9mm = np.mean(velocities_9mm)\n",
    "stdmeanvelocity_9mm = np.std(velocities_9mm)/np.sqrt(5)\n",
    "\n",
    "# Now we create an array for the mean velocities\n",
    "meanvelocityarr = np.array([meanvelocity_2mm , meanvelocity_3mm , meanvelocity_4mm , meanvelocity_5mm , meanvelocity_6mm , meanvelocity_7144mm , meanvelocity_8mm , meanvelocity_9mm])\n",
    "print(\"Mean velocities: \",meanvelocityarr, \"[m/s]\")"
   ]
  },
  {
   "cell_type": "markdown",
   "metadata": {},
   "source": [
    "Now we will calculate the errors of the velocities.\n",
    "The error is composed of the standard deviation of the mean, as well as the reaction time error and distance error through propagation of uncertainty."
   ]
  },
  {
   "cell_type": "code",
   "execution_count": 4,
   "metadata": {},
   "outputs": [
    {
     "name": "stdout",
     "output_type": "stream",
     "text": [
      "Mean velocities error:  [0.00024362 0.00056718 0.00048053 0.00096314 0.00158479 0.00155196\n",
      " 0.00095595 0.00156999] [m/s]\n"
     ]
    }
   ],
   "source": [
    "# We define a function that calculates the error of the mean velocity\n",
    "def errMeanVelo(distance, times, err_distance, err_times, stdmeanvelocity):\n",
    "    return np.sqrt( (err_distance / np.mean(times))**2 + ((distance*err_times) / (np.mean(times))**2)**2 + (stdmeanvelocity)**2 )\n",
    "\n",
    "# Now we calculate the error for each diameter\n",
    "err_meanvelocity_2mm = errMeanVelo(distance_2mm, times_2mm, err_distance, err_times, stdmeanvelocity_2mm)\n",
    "err_meanvelocity_3mm = errMeanVelo(distance_3mm, times_3mm, err_distance, err_times, stdmeanvelocity_3mm)\n",
    "err_meanvelocity_4mm = errMeanVelo(distance_4mm, times_4mm, err_distance, err_times, stdmeanvelocity_4mm)\n",
    "err_meanvelocity_5mm = errMeanVelo(distance_5mm, times_5mm, err_distance, err_times, stdmeanvelocity_5mm)\n",
    "err_meanvelocity_6mm = errMeanVelo(distance_6mm, times_6mm, err_distance, err_times, stdmeanvelocity_6mm)\n",
    "err_meanvelocity_7144mm = errMeanVelo(distance_7144mm, times_7144mm, err_distance, err_times, stdmeanvelocity_7144mm)\n",
    "err_meanvelocity_8mm = errMeanVelo(distance_8mm, times_8mm, err_distance, err_times, stdmeanvelocity_8mm)\n",
    "err_meanvelocity_9mm = errMeanVelo(distance_9mm, times_9mm, err_distance, err_times, stdmeanvelocity_9mm)\n",
    "\n",
    "err_meanvelocityarr = np.array([err_meanvelocity_2mm , err_meanvelocity_3mm , err_meanvelocity_4mm , err_meanvelocity_5mm , err_meanvelocity_6mm , err_meanvelocity_7144mm , err_meanvelocity_8mm , err_meanvelocity_9mm ])\n",
    "print(\"Mean velocities error: \",err_meanvelocityarr, \"[m/s]\")"
   ]
  },
  {
   "cell_type": "markdown",
   "metadata": {},
   "source": [
    "Our results for the sinking velocities are: <br>\n",
    "2mm: $v=2.30\\pm 0.24 \\frac{mm}{s}$ <br>\n",
    "3mm: $v=4.6\\pm 0.6 \\frac{mm}{s}$ <br>\n",
    "4mm: $v=7.7\\pm 0.5 \\frac{mm}{s}$ <br>\n",
    "5mm: $v=11.8\\pm 1.0 \\frac{mm}{s}$ <br>\n",
    "6mm: $v=15.5\\pm 1.6 \\frac{mm}{s}$ <br>\n",
    "7.144mm: $v=22.2\\pm 1.6 \\frac{mm}{s}$ <br>\n",
    "8mm: $v=24.7\\pm 1.0 \\frac{mm}{s}$ <br>\n",
    "9mm: $v=31.8\\pm 1.6 \\frac{mm}{s}$ <br>"
   ]
  },
  {
   "cell_type": "markdown",
   "metadata": {},
   "source": [
    "For plotting the velocity against the radius of the balls, we have to put our calculated data into arrays, as well as set the values for the densities of the balls and the polyethylene glycol."
   ]
  },
  {
   "cell_type": "code",
   "execution_count": 5,
   "metadata": {},
   "outputs": [
    {
     "name": "stdout",
     "output_type": "stream",
     "text": [
      "y-values: [1.00115057e-05 2.01179286e-05 3.35177817e-05 5.11405979e-05\n",
      " 6.72887831e-05 9.65208703e-05 1.17621468e-04 1.48006313e-04]\n",
      "x-values: [1.0000000e-06 2.2500000e-06 4.0000000e-06 6.2500000e-06 9.0000000e-06\n",
      " 1.2759184e-05 1.6000000e-05 2.0250000e-05]\n",
      "Error of the y-values: [1.06653040e-06 2.47896719e-06 2.12890480e-06 4.23457669e-06\n",
      " 6.94099269e-06 6.85026402e-06 4.81213728e-06 7.55117715e-06]\n",
      "Error of the x-values: [1.0000000e-08 2.2500000e-08 4.0000000e-08 6.2500000e-08 9.0000000e-08\n",
      " 1.2759184e-07 1.6000000e-07 2.0250000e-07]\n"
     ]
    }
   ],
   "source": [
    "# We create an array for the radius of the balls as well as their 1% error\n",
    "r = np.array([0.001 , 0.0015 , 0.002 , 0.0025 , 0.003 , 0.003572 , 0.004 , 0.0045]) # Units: meters\n",
    "err_r = r * 0.005\n",
    "\n",
    "# We enter the values of the densities and their errors\n",
    "rho_k = np.array([1377.5 , 1377.5 , 1377.5 , 1377.5 , 1377.5 , 1377.5 , 1357.5 , 1362.5]) # Units: kilograms per cubic meter\n",
    "err_rho_k = np.array([2.5 , 2.5 , 2.5 , 2.5 , 2.5 , 2.5 , 2.5 , 2.5])\n",
    "\n",
    "# We determine the density of polyethylene glycol through the diagram in the instruction as (T= 22 +- 1 °C)\n",
    "rho_f = 1147.6 # Unit kilograms per cubic meter\n",
    "err_rho_f = 1.2\n",
    "\n",
    "# We have to plot v/(rho_k-rho_f) against r^2, thus we create arrays that include these values\n",
    "y_values = meanvelocityarr / (rho_k - rho_f)\n",
    "x_values = r**2\n",
    "\n",
    "# The errors of the y and x values are calculated here:\n",
    "err_y = np.sqrt( ((err_meanvelocityarr) / (rho_k - rho_f))**2 + ((meanvelocityarr*err_rho_k)/(rho_k-rho_f)**2)**2 + ((meanvelocityarr*err_rho_f)/(rho_k-rho_f)**2)**2 )\n",
    "err_x = 2*r*err_r\n",
    "\n",
    "print(\"y-values: {}\".format(y_values))\n",
    "print(\"x-values: {}\".format(x_values))\n",
    "\n",
    "print(\"Error of the y-values: {}\".format(err_y))\n",
    "print(\"Error of the x-values: {}\".format(err_x))\n"
   ]
  },
  {
   "cell_type": "markdown",
   "metadata": {},
   "source": [
    "Now we can plot our calculated data"
   ]
  },
  {
   "cell_type": "code",
   "execution_count": 6,
   "metadata": {},
   "outputs": [
    {
     "data": {
      "text/plain": [
       "Text(0, 0.5, '$\\\\frac{v}{(\\\\rho_k - \\\\rho_f)}$ [$\\\\frac{m^4}{s\\\\cdot kg}$]')"
      ]
     },
     "execution_count": 6,
     "metadata": {},
     "output_type": "execute_result"
    }
   ],
   "source": [
    "plt.errorbar(x_values, y_values, linestyle=\"None\", marker = \".\", yerr = err_y, xerr = err_x, ecolor = \"red\", capsize = 2)\n",
    "plt.xlabel(\"$r^2$ [$m^2$] \")\n",
    "plt.ylabel(\"$\\\\frac{v}{(\\\\rho_k - \\\\rho_f)}$ [$\\\\frac{m^4}{s\\\\cdot kg}$]\")"
   ]
  },
  {
   "cell_type": "markdown",
   "metadata": {},
   "source": [
    "Our next goal is to introduce the correction factor $\\lambda = (1+2.1\\frac{r}{R})$, which compensates that the liquid is not infinite. It depends on the radius r, so we will create an array for $\\lambda$."
   ]
  },
  {
   "cell_type": "code",
   "execution_count": 7,
   "metadata": {},
   "outputs": [
    {
     "name": "stdout",
     "output_type": "stream",
     "text": [
      "Lambda:  [1.056    1.084    1.112    1.14     1.168    1.200032 1.224    1.252   ]\n",
      "Error of Lambda:  [0.00028    0.00042    0.00056    0.0007     0.00084    0.00100016\n",
      " 0.00112    0.00126   ]\n",
      "Corrected y-values:  [1.05721500e-05 2.18078346e-05 3.72717733e-05 5.83002816e-05\n",
      " 7.85932987e-05 1.15828133e-04 1.43968676e-04 1.85303903e-04]\n",
      "Error corrected y-values:  [1.12625959e-06 2.68721372e-06 2.36741655e-06 4.82755016e-06\n",
      " 8.10727650e-06 8.22110284e-06 5.89152904e-06 9.45591291e-06]\n"
     ]
    }
   ],
   "source": [
    "lmbda = 1 + 2.1 * (r / (0.5*d_inner))\n",
    "err_lmbda = 2.1 * (err_r / (0.5*d_inner))\n",
    "\n",
    "print(\"Lambda: \",lmbda)\n",
    "print(\"Error of Lambda: \",err_lmbda)\n",
    "\n",
    "y_values_corr = lmbda * y_values # corrected y-values\n",
    "err_y_corr = np.sqrt( (lmbda * err_y)**2 + (y_values * err_lmbda)**2 ) # errors for the corrected y-values\n",
    "\n",
    "print(\"Corrected y-values: \",y_values_corr)\n",
    "print(\"Error corrected y-values: \", err_y_corr)"
   ]
  },
  {
   "cell_type": "markdown",
   "metadata": {},
   "source": [
    "Now we can plot the corrected values in the same diagram"
   ]
  },
  {
   "cell_type": "code",
   "execution_count": 8,
   "metadata": {},
   "outputs": [
    {
     "data": {
      "text/plain": [
       "<matplotlib.legend.Legend at 0x24607bf1670>"
      ]
     },
     "execution_count": 8,
     "metadata": {},
     "output_type": "execute_result"
    }
   ],
   "source": [
    "plt.errorbar(x_values, y_values, linestyle=\"None\", marker = \".\", yerr = err_y, xerr = err_x, label=\"original values\", capsize = 2)\n",
    "plt.errorbar(x_values, y_values_corr, linestyle=\"None\", marker = \".\", yerr = err_y_corr, xerr = err_x, color=\"green\", label=\"corrected values\", capsize = 2)\n",
    "plt.xlabel(\"$r^2$ [$m^2$] \")\n",
    "plt.ylabel(\"$\\\\frac{v}{(\\\\rho_k - \\\\rho_f)}$ [$\\\\frac{m^4}{s\\\\cdot kg}$]\")\n",
    "plt.legend()"
   ]
  },
  {
   "cell_type": "markdown",
   "metadata": {},
   "source": [
    "Now we can do a fit and determine the viscosity $\\eta$ by defining the function v(r)"
   ]
  },
  {
   "cell_type": "code",
   "execution_count": 9,
   "metadata": {},
   "outputs": [
    {
     "name": "stdout",
     "output_type": "stream",
     "text": [
      "Viscosity:  [0.23768138] [Pas]\n",
      "Error of the viscosity:  [0.00320927] [Pas]\n"
     ]
    }
   ],
   "source": [
    "def fit(x, eta):\n",
    "    return (2/9)*(9.81*x)/(eta)\n",
    "\n",
    "# Now we can perform the fit\n",
    "popt, pcov = curve_fit(fit, x_values, y_values_corr, sigma = err_y_corr)\n",
    "\n",
    "eta = popt\n",
    "err_eta = np.sqrt(pcov[0])\n",
    "\n",
    "print(\"Viscosity: \",eta, \"[Pas]\")\n",
    "print(\"Error of the viscosity: \",err_eta, \"[Pas]\")"
   ]
  },
  {
   "cell_type": "markdown",
   "metadata": {},
   "source": [
    "Our result for the viscosity of polyethlyene glycol with the falling sphere viscometer is <br>\n",
    "$\\eta = 0.238\\pm 0.003 Pa\\cdot s$ <br>\n",
    "We will enter the fitted curve into our diagram."
   ]
  },
  {
   "cell_type": "code",
   "execution_count": 10,
   "metadata": {},
   "outputs": [
    {
     "data": {
      "text/plain": [
       "<matplotlib.legend.Legend at 0x24607e963a0>"
      ]
     },
     "execution_count": 10,
     "metadata": {},
     "output_type": "execute_result"
    }
   ],
   "source": [
    "plt.errorbar(x_values, y_values, linestyle=\"None\", marker = \".\", yerr = err_y, xerr = err_x, label=\"original values\", capsize = 2)\n",
    "plt.errorbar(x_values, y_values_corr, linestyle=\"None\", marker = \".\", yerr = err_y_corr, xerr = err_x, color=\"green\", label=\"corrected values\", capsize = 2)\n",
    "plt.plot(x_values, fit(x_values, eta), color=\"green\", label=\"fit curve\")\n",
    "plt.xlabel(\"$r^2$ [$m^2$] \")\n",
    "plt.ylabel(\"$\\\\frac{v}{(\\\\rho_k - \\\\rho_f)}$ [$\\\\frac{m^4}{s\\\\cdot kg}$]\")\n",
    "plt.legend()"
   ]
  },
  {
   "cell_type": "markdown",
   "metadata": {},
   "source": [
    "## Calculation of the theroetical values $v_{lam}$ with our determined viscosity and determining the critical Reynolds number\n",
    "\n",
    "We can define a function that calculates $v_{lam}$ for each radius (without the factor lambda):"
   ]
  },
  {
   "cell_type": "code",
   "execution_count": 11,
   "metadata": {},
   "outputs": [
    {
     "name": "stdout",
     "output_type": "stream",
     "text": [
      "Theoretical laminar velocities:  [0.00210863 0.00474442 0.00843452 0.01317893 0.01897767 0.02690439\n",
      " 0.03080305 0.03991377] [m/s]\n",
      "Error of the theoretical laminar velocities:  [5.68865272e-05 1.27994686e-04 2.27546109e-04 3.55540795e-04\n",
      " 5.11978745e-04 7.25825667e-04 8.47424307e-04 1.09223096e-03] [m/s]\n"
     ]
    }
   ],
   "source": [
    "def vlam(r, rho_k):\n",
    "    return (2/9)*9.81*(rho_k - rho_f)/(eta)*(r)**2\n",
    "def err_vlam(vlam, r, rho_k):\n",
    "    return ( np.sqrt( (err_eta / eta)**2 + (2.5 / (rho_k - rho_f))**2 + (err_rho_f / (rho_k - rho_f))**2 + (2*0.01*r / r)**2 ) ) * vlam\n",
    "\n",
    "# Now we can calculate the theoretical velocities:\n",
    "vlamarr = vlam(r,rho_k)\n",
    "err_vlamarr = err_vlam(vlamarr, r, rho_k)\n",
    "\n",
    "print(\"Theoretical laminar velocities: \", vlamarr, \"[m/s]\")\n",
    "print(\"Error of the theoretical laminar velocities: \",err_vlamarr, \"[m/s]\")"
   ]
  },
  {
   "cell_type": "markdown",
   "metadata": {},
   "source": [
    "Next we have to calculate $\\frac{v}{v_{lam}}$ and its error:"
   ]
  },
  {
   "cell_type": "code",
   "execution_count": 12,
   "metadata": {},
   "outputs": [
    {
     "name": "stdout",
     "output_type": "stream",
     "text": [
      "Velocity fractions:  [1.09153603 0.97485364 0.9135955  0.89212243 0.81515245 0.82477788\n",
      " 0.80150325 0.79688176]\n",
      "Error of the velocity fractions:  [0.1192278  0.122405   0.06207448 0.07694313 0.08635505 0.06182709\n",
      " 0.03807024 0.04497466]\n"
     ]
    }
   ],
   "source": [
    "# First we define functions that calculate the values we want\n",
    "def vfrac(v,vlam):\n",
    "    return v / vlam\n",
    "def err_vfrac(vfrac, v, vlam, err_v, err_vlam):\n",
    "    return np.sqrt( (err_v / v)**2 + (err_vlam / vlam)**2 ) * vfrac\n",
    "\n",
    "# Now we can calculate the fraction for each diameter:\n",
    "vfracarr = vfrac(meanvelocityarr, vlamarr)\n",
    "err_vfracarr = err_vfrac(vfracarr, meanvelocityarr, vlamarr, err_meanvelocityarr, err_vlamarr)\n",
    "\n",
    "\n",
    "print(\"Velocity fractions: \",vfracarr)\n",
    "print(\"Error of the velocity fractions: \",err_vfracarr)"
   ]
  },
  {
   "cell_type": "markdown",
   "metadata": {},
   "source": [
    "Since our goal is to plot these fractions against the Reynolds number, we have to calculate the Reynolds Number for each diameter with equation (4)."
   ]
  },
  {
   "cell_type": "code",
   "execution_count": 13,
   "metadata": {},
   "outputs": [
    {
     "name": "stdout",
     "output_type": "stream",
     "text": [
      "Reynolds numbers:  [0.02222612 0.06699446 0.14882284 0.28383774 0.44815502 0.76541508\n",
      " 0.95363985 1.38214795]\n",
      "Error of the reynolds numbers:  [0.0023821  0.00829258 0.0096128  0.02373771 0.04652685 0.05506158\n",
      " 0.0402642  0.07208219]\n"
     ]
    }
   ],
   "source": [
    "def reynolds(v,d):\n",
    "    return (rho_f * v * d)/(eta)\n",
    "def err_reynolds(reynolds, v, d, err_v):\n",
    "    return np.sqrt( (err_v / v)**2 + (0.01*d / d)**2 + (err_rho_f / rho_f)**2 + (err_eta / eta)**2 ) * reynolds\n",
    "\n",
    "reynoldsarr = reynolds(meanvelocityarr,  2*r)\n",
    "err_reynoldsarr = err_reynolds(reynoldsarr, meanvelocityarr, 2*r, err_meanvelocityarr)\n",
    "\n",
    "print(\"Reynolds numbers: \",reynoldsarr)\n",
    "print(\"Error of the reynolds numbers: \",err_reynoldsarr)"
   ]
  },
  {
   "cell_type": "markdown",
   "metadata": {},
   "source": [
    "Now we can plot the fractions against the reynolds number on a logarithmic scale"
   ]
  },
  {
   "cell_type": "code",
   "execution_count": 14,
   "metadata": {},
   "outputs": [
    {
     "data": {
      "text/plain": [
       "Text(-1.777777777777784, 0.5, '$\\\\frac{v}{v_{lam}}$')"
      ]
     },
     "execution_count": 14,
     "metadata": {},
     "output_type": "execute_result"
    }
   ],
   "source": [
    "plt.errorbar(reynoldsarr , vfracarr, marker = \".\", linestyle=\"None\", yerr=err_vfracarr, xerr=err_reynoldsarr, ecolor=\"Red\", capsize = 2)\n",
    "plt.xlabel(\"$Re$\")\n",
    "plt.ylabel(\"$\\\\frac{v}{v_{lam}}$\")\n",
    "#plt.xscale=(\"log\")"
   ]
  },
  {
   "cell_type": "markdown",
   "metadata": {},
   "source": [
    "Our result for the critical Reynolds Number is <br>\n",
    "$Re_{cr}=0.45\\pm 0.07$ <br>\n",
    "The result was estimated from the diagram. <br>\n",
    "We are also supposed to estimate the critical Reynolds number. In the instructions we are given, that when a ball is moved through the viscometer, the critical Reynolds number is approximately equal to 1."
   ]
  },
  {
   "cell_type": "markdown",
   "metadata": {},
   "source": [
    "## Determining the viscosity after Hagen-Poiseuille <br>\n",
    "In the second part of the experiment, we have to determine the viscosity through equation (14):"
   ]
  },
  {
   "cell_type": "code",
   "execution_count": 15,
   "metadata": {},
   "outputs": [],
   "source": [
    "# First, we enter our measured values for the height and time\n",
    "h_a = 0.550 # Unit is meters\n",
    "h_e = 0.544\n",
    "err_h = 0.001\n",
    "\n",
    "V = np.array([0.000005 , 0.00001, 0.000015, 0.00002, 0.000025]) # Volume in m^3\n",
    "t = np.array([152, 412, 625, 855, 1114]) # Times in seconds\n",
    "\n",
    "# We define a linear function to determine dV / dt later\n",
    "def linear(t, dVdt):\n",
    "    return dVdt * t\n",
    "\n",
    "p_0 = 101260 #Pa - air pressure\n",
    "err_p_0 = 0.2\n",
    "\n",
    "# Diameter of the capillary viscometer\n",
    "d_cap = 0.0015 # meters\n",
    "err_d_cap = 0.00001\n",
    "\n",
    "# Length of the capillary viscometer\n",
    "L = 0.1 # meters\n",
    "err_L = 0.0005"
   ]
  },
  {
   "cell_type": "markdown",
   "metadata": {},
   "source": [
    "Now we calculate $\\frac{\\Delta V}{\\Delta t}$"
   ]
  },
  {
   "cell_type": "code",
   "execution_count": 16,
   "metadata": {},
   "outputs": [
    {
     "name": "stdout",
     "output_type": "stream",
     "text": [
      "dV / dt:  [2.3167732e-08] [m^3/s]\n",
      "Error dV / dt:  [5.72851323e-10] [m^3/s]\n"
     ]
    }
   ],
   "source": [
    "#dVdt = (np.pi * (0.5*d_inner)**2 * (h_a - h_e)) / delta_t\n",
    "#err_dVdt = np.sqrt( (np.pi * (0.5*d_inner)**2 * err_h / delta_t)**2 + (np.pi * (0.5*d_inner)**2 * err_h / delta_t)**2 + (np.pi * (0.5*d_inner)**2 * (h_a - h_e) * err_delta_t / delta_t**2)**2)\n",
    "\n",
    "# We perform the fit to determine dV / dt\n",
    "popt, pcov = curve_fit(linear, t, V)\n",
    "\n",
    "dVdt = popt\n",
    "err_dVdt = np.sqrt(pcov[0])\n",
    "print(\"dV / dt: \", dVdt, \"[m^3/s]\")\n",
    "print(\"Error dV / dt: \",err_dVdt, \"[m^3/s]\")"
   ]
  },
  {
   "cell_type": "markdown",
   "metadata": {},
   "source": [
    "Next we have to calculate the pressure inside the capillary viscometer with the mean of the two heights"
   ]
  },
  {
   "cell_type": "code",
   "execution_count": 17,
   "metadata": {},
   "outputs": [
    {
     "name": "stdout",
     "output_type": "stream",
     "text": [
      "Mean height:  0.547 m\n",
      "Error mean height:  0.0007071067811865475 m\n",
      "Pressure difference:  6158.1019320000005 Pa\n",
      "Error of the pressure difference:  10.238904486400095 Pa\n"
     ]
    }
   ],
   "source": [
    "mean_h = (h_a + h_e)/2\n",
    "err_mean_h = np.sqrt( (err_h / 2)**2 + (err_h / 2)**2 ) \n",
    "print(\"Mean height: \",mean_h, \"m\")\n",
    "print(\"Error mean height: \",err_mean_h, \"m\")\n",
    "\n",
    "# Hydrostatic pressure minus p_0\n",
    "p_h = rho_f * 9.81 * mean_h\n",
    "err_p_h = np.sqrt( (rho_f * 9.81 * err_mean_h)**2 + (9.81 * mean_h * err_rho_f)**2)\n",
    "print(\"Pressure difference: \",p_h, \"Pa\")\n",
    "print(\"Error of the pressure difference: \",err_p_h, \"Pa\")"
   ]
  },
  {
   "cell_type": "markdown",
   "metadata": {},
   "source": [
    "Now we can use equation (14):"
   ]
  },
  {
   "cell_type": "code",
   "execution_count": 18,
   "metadata": {},
   "outputs": [
    {
     "name": "stdout",
     "output_type": "stream",
     "text": [
      "Viscosity after Hagen-Poiseuille:  [0.33026937] [Pas]\n",
      "Error of the viscosity:  [0.01213606] [Pas]\n"
     ]
    }
   ],
   "source": [
    "def hagenPoiseuille(p_h, d_cap, L, dVdt):\n",
    "    return np.pi * p_h * (0.5*d_cap)**4 / (8*L*dVdt)\n",
    "def err_hagenPoiseuille(eta_HP, p_h, d_cap, L, dVdt, err_p_h, err_d_cap, err_L, err_dVdt):\n",
    "    return np.sqrt( (err_p_h / p_h)**2 + (4*0.5*err_d_cap / (0.5*d_cap))**2 + (err_L / L)**2 + (err_dVdt / dVdt)**2 ) * eta_HP\n",
    "\n",
    "eta_HP = hagenPoiseuille(p_h, d_cap, L, dVdt)\n",
    "err_eta_HP = err_hagenPoiseuille(eta_HP, p_h, d_cap, L, dVdt, err_p_h, err_d_cap, err_L, err_dVdt)\n",
    "\n",
    "print(\"Viscosity after Hagen-Poiseuille: \",eta_HP, \"[Pas]\")\n",
    "print(\"Error of the viscosity: \",err_eta_HP, \"[Pas]\")"
   ]
  },
  {
   "cell_type": "markdown",
   "metadata": {},
   "source": [
    "Our result for the viscosity with Hagen-Poiseuille is: <br>\n",
    "$\\eta_{HP} = 0.330\\pm 0.012 Pa\\cdot s $ <br>\n",
    "<br>\n",
    "Out next goal is to calculate the reynolds number of the capillary:"
   ]
  },
  {
   "cell_type": "code",
   "execution_count": 19,
   "metadata": {},
   "outputs": [
    {
     "name": "stdout",
     "output_type": "stream",
     "text": [
      "Area perpendicular to the capillary viscometer:  1.7671458676442586e-06 [m^2]\n",
      "Error of Area:  2.356194490192345e-08 [m^2]\n",
      "Capillary velocity:  [0.01311025] [m/s]\n",
      "Error Capillary velocity:  [0.00036829] [m/s]\n",
      "Reynolds number:  [0.06833208]\n",
      "Error Reynolds number:  [0.00319409]\n"
     ]
    }
   ],
   "source": [
    "def reynoldsHPcalc(v_cap,d):\n",
    "    return (rho_f * v_cap * d)/(eta_HP)\n",
    "def err_reynoldsHP(reynoldsHP, v_cap, d_cap, err_v_cap, err_d_cap):\n",
    "    return np.sqrt( (err_v_cap / v_cap)**2 + (err_d_cap / d_cap)**2 + (err_rho_f / rho_f)**2 + (err_eta_HP / eta_HP)**2 ) * reynoldsHP\n",
    "\n",
    "# We calculate the Area perpendicular to the capillary viscometer\n",
    "A = np.pi * (0.5 * d_cap)**2\n",
    "err_A = np.pi * 2 * 0.5 * d_cap *  0.5 * err_d_cap\n",
    "\n",
    "print(\"Area perpendicular to the capillary viscometer: \", A, \"[m^2]\")\n",
    "print(\"Error of Area: \", err_A, \"[m^2]\")\n",
    "\n",
    "# We calculate v\n",
    "v_cap = dVdt / (np.pi * (0.5 * d_cap)**2)\n",
    "err_v_cap = np.sqrt( (err_dVdt / dVdt)**2 + (err_A / A)**2 ) * v_cap\n",
    "\n",
    "print(\"Capillary velocity: \",v_cap, \"[m/s]\")\n",
    "print(\"Error Capillary velocity: \", err_v_cap, \"[m/s]\")\n",
    "\n",
    "reynoldsHP = reynoldsHPcalc(v_cap, d_cap)\n",
    "err_reynoldsHP = err_reynoldsHP(reynoldsHP, v_cap, d_cap, err_v_cap, err_d_cap)\n",
    "print(\"Reynolds number: \",reynoldsHP)\n",
    "print(\"Error Reynolds number: \", err_reynoldsHP)\n",
    "\n"
   ]
  },
  {
   "cell_type": "markdown",
   "metadata": {},
   "source": [
    "$Re_{HP}=0.068\\pm0.003$ <br>\n",
    "We can see that it was in fact laminar flow, because the Reynolds number was lower than the approximate 2300 at which turbulent flow occurs in the capillary viscometer."
   ]
  },
  {
   "cell_type": "markdown",
   "metadata": {},
   "source": [
    "## Comparing our two determined viscosities\n",
    "We will calculate the deviation of our two values:"
   ]
  },
  {
   "cell_type": "code",
   "execution_count": 20,
   "metadata": {},
   "outputs": [
    {
     "name": "stdout",
     "output_type": "stream",
     "text": [
      "Deviation:  [7.37563738]\n"
     ]
    }
   ],
   "source": [
    "sigma = (eta_HP - eta)/(np.sqrt(err_eta**2 + err_eta_HP**2))\n",
    "\n",
    "print(\"Deviation: \", sigma)"
   ]
  },
  {
   "cell_type": "code",
   "execution_count": null,
   "metadata": {},
   "outputs": [],
   "source": []
  }
 ],
 "metadata": {
  "kernelspec": {
   "display_name": "Python 3",
   "language": "python",
   "name": "python3"
  },
  "language_info": {
   "codemirror_mode": {
    "name": "ipython",
    "version": 3
   },
   "file_extension": ".py",
   "mimetype": "text/x-python",
   "name": "python",
   "nbconvert_exporter": "python",
   "pygments_lexer": "ipython3",
   "version": "3.8.5"
  }
 },
 "nbformat": 4,
 "nbformat_minor": 4
}
