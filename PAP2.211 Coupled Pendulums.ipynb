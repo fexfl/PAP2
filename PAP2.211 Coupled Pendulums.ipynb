{
 "cells": [
  {
   "cell_type": "markdown",
   "metadata": {},
   "source": [
    "# Experiment 211 - Coupled Pendulums\n",
    "#### Felix Fleischle - 17.1.2022"
   ]
  },
  {
   "cell_type": "code",
   "execution_count": 1,
   "metadata": {},
   "outputs": [],
   "source": [
    "import numpy as np\n",
    "import matplotlib.pyplot as plt\n",
    "from scipy.optimize import curve_fit"
   ]
  },
  {
   "cell_type": "code",
   "execution_count": 2,
   "metadata": {},
   "outputs": [
    {
     "name": "stdout",
     "output_type": "stream",
     "text": [
      "Independent omega: 3.8830085198369844 +- 0.031415926535897934 [1/s]\n",
      "Omega symmetric: [3.89557489 3.90185808 3.90185808] +- [0.09424778 0.03141593 0.0439823 ] [1/s]\n",
      "Omega asymmetric: [4.08407045 4.31654831 4.65584031] +- [0.0439823  0.05654867 0.05654867] [1/s]\n",
      "Omega 1 beat oscillation: [3.90185808 3.90814126 3.90185808] +- [0.03769911 0.03769911 0.03769911] [1/s]\n",
      "Omega 2 beat oscillation: [4.07150408 4.30398194 4.6181412 ] +- [0.0439823 0.0439823 0.0439823] [1/s]\n"
     ]
    }
   ],
   "source": [
    "# Frequency of the independent pendulums\n",
    "omega_ind = 2 * np.pi * 0.618 #Hz\n",
    "omega_ind_err = 2 * np.pi * 0.005\n",
    "print(\"Independent omega:\", omega_ind, \"+-\", omega_ind_err, \"[1/s]\")\n",
    "\n",
    "# Lenghts of the mounting holes\n",
    "lengths = np.array([0.1915, 0.2920, 0.3935]) #m\n",
    "lengths_err = np.array([0.0005, 0.0005, 0.0005])\n",
    "\n",
    "# Symmetrical oscillation:\n",
    "omega_sym = 2* np.pi * np.array([0.620, 0.621, 0.621])\n",
    "omega_sym_err = 2* np.pi * np.array([0.015, 0.005, 0.007])\n",
    "print(\"Omega symmetric:\", omega_sym, \"+-\", omega_sym_err, \"[1/s]\")\n",
    "\n",
    "# Asymmetrical oscillation:\n",
    "omega_asym = 2* np.pi * np.array([0.650, 0.687, 0.741])\n",
    "omega_asym_err = 2* np.pi * np.array([0.007, 0.009, 0.009])\n",
    "print(\"Omega asymmetric:\", omega_asym, \"+-\", omega_asym_err, \"[1/s]\")\n",
    "\n",
    "# Beat Oscillation:\n",
    "omega_beat_1 = 2* np.pi * np.array([0.621, 0.622, 0.621])\n",
    "omega_beat_1_err = 2* np.pi * np.array([0.006, 0.006, 0.006])\n",
    "print(\"Omega 1 beat oscillation:\", omega_beat_1, \"+-\", omega_beat_1_err, \"[1/s]\")\n",
    "\n",
    "omega_beat_2 = 2* np.pi * np.array([0.648, 0.685, 0.735])\n",
    "omega_beat_2_err = 2* np.pi * np.array([0.007, 0.007, 0.007])\n",
    "print(\"Omega 2 beat oscillation:\", omega_beat_2, \"+-\", omega_beat_2_err, \"[1/s]\")"
   ]
  },
  {
   "cell_type": "code",
   "execution_count": 3,
   "metadata": {},
   "outputs": [
    {
     "name": "stdout",
     "output_type": "stream",
     "text": [
      "Omega_i: [3.98668108 4.1060616  4.25999964] +- [0.02896405 0.02896405 0.02896405] [Hz]\n",
      "Omega_ii: [0.084823   0.19792034 0.35814156] +- [0.02896405 0.02896405 0.02896405] [Hz]\n"
     ]
    }
   ],
   "source": [
    "omega_beat_i = 1/2 * (omega_beat_1 + omega_beat_2)\n",
    "omega_beat_i_err = np.sqrt((0.5 * omega_beat_1_err)**2 + (0.5 * omega_beat_2_err)**2)\n",
    "omega_beat_ii = 1/2 * (omega_beat_2 - omega_beat_1)\n",
    "omega_beat_ii_err = np.sqrt((0.5 * omega_beat_1_err)**2 + (0.5 * omega_beat_2_err)**2)\n",
    "\n",
    "print(\"Omega_i:\", omega_beat_i, \"+-\", omega_beat_i_err, \"[Hz]\")\n",
    "print(\"Omega_ii:\", omega_beat_ii, \"+-\", omega_beat_ii_err, \"[Hz]\")"
   ]
  },
  {
   "cell_type": "code",
   "execution_count": 4,
   "metadata": {},
   "outputs": [
    {
     "name": "stdout",
     "output_type": "stream",
     "text": [
      "Experimental omega_i: [3.93905417 3.9719232  4.44669873] +- [0.12347358 0.1255428  0.15734957] [1/s]\n",
      "Experimental omega_ii: [0.08828964 0.20594868 0.3546336 ] +- [0.00012406 0.00067505 0.00200161] [1/s]\n",
      "Deviations omega_i: [0.37553177 1.04111867 1.16691942]\n",
      "Deviations omega_ii: [0.11968656 0.27710774 0.12082625]\n"
     ]
    }
   ],
   "source": [
    "# experimental Values for omega_i and omega_ii\n",
    "T_i = np.array([1.5951, 1.5819, 1.4130])\n",
    "T_i_err = np.array([0.05, 0.05, 0.05])\n",
    "T_ii = np.array([71.1656, 30.5085, 17.7174])\n",
    "T_ii_err = np.array([0.1, 0.1, 0.1])\n",
    "\n",
    "omega_i_exp = 2 * np.pi / T_i\n",
    "omega_i_exp_err = 2 * np.pi * T_i_err / (T_i)**2\n",
    "print(\"Experimental omega_i:\", omega_i_exp, \"+-\", omega_i_exp_err, \"[1/s]\")\n",
    "\n",
    "omega_ii_exp = 2 * np.pi / T_ii\n",
    "omega_ii_exp_err = 2 * np.pi * T_ii_err / (T_ii)**2\n",
    "print(\"Experimental omega_ii:\", omega_ii_exp, \"+-\", omega_ii_exp_err, \"[1/s]\")\n",
    "\n",
    "# Deviations\n",
    "sigma_omega_i = np.abs((omega_i_exp - omega_beat_i)/(np.sqrt(omega_i_exp_err**2 + omega_beat_i_err**2)))\n",
    "print(\"Deviations omega_i:\", sigma_omega_i)\n",
    "\n",
    "sigma_omega_ii = np.abs((omega_ii_exp - omega_beat_ii)/(np.sqrt(omega_ii_exp_err**2 + omega_beat_ii_err**2)))\n",
    "print(\"Deviations omega_ii:\", sigma_omega_ii)"
   ]
  },
  {
   "cell_type": "code",
   "execution_count": 11,
   "metadata": {},
   "outputs": [
    {
     "name": "stdout",
     "output_type": "stream",
     "text": [
      "Kappa: [0.04955775 0.11192793 0.21190693] +- [0.02910694 0.01881909 0.02359326]\n"
     ]
    }
   ],
   "source": [
    "# Coupling strength\n",
    "kappa = ((omega_asym)**2 / (2*omega_sym**2) )- 0.5\n",
    "kappa_err = np.sqrt((omega_asym * omega_asym_err / (omega_sym)**2)**2 + (omega_asym**2 * omega_sym_err / (omega_sym)**3)**2)\n",
    "print(\"Kappa:\", kappa, \"+-\", kappa_err)"
   ]
  },
  {
   "cell_type": "code",
   "execution_count": 6,
   "metadata": {},
   "outputs": [
    {
     "name": "stdout",
     "output_type": "stream",
     "text": [
      "Ratio middle/top: 2.2585352984346216 +- 0.1383251140740547\n",
      "Ratio bottom/top: 4.275959238904572 +- 0.2671546667624803\n",
      "Ratio bottom/middle: 1.893244370308587 +- 0.08559717472243693\n"
     ]
    }
   ],
   "source": [
    "# Ratios\n",
    "kappa_r_mt = kappa[1]/kappa[0]\n",
    "kappa_r_mt_err = np.sqrt((kappa_err[0]/kappa[0])**2 + (kappa_err[1]/kappa[1])**2) * kappa_r_mt\n",
    "print(\"Ratio middle/top:\", kappa_r_mt, \"+-\", kappa_r_mt_err)\n",
    "\n",
    "kappa_r_bt = kappa[2]/kappa[0]\n",
    "kappa_r_bt_err = np.sqrt((kappa_err[0]/kappa[0])**2 + (kappa_err[2]/kappa[2])**2) * kappa_r_bt\n",
    "print(\"Ratio bottom/top:\", kappa_r_bt, \"+-\", kappa_r_bt_err)\n",
    "\n",
    "kappa_r_bm = kappa[2]/kappa[1]\n",
    "kappa_r_bm_err = np.sqrt((kappa_err[1]/kappa[1])**2 + (kappa_err[2]/kappa[2])**2) * kappa_r_bm\n",
    "print(\"Ratio bottom/middle:\", kappa_r_bm, \"+-\", kappa_r_bm_err)"
   ]
  },
  {
   "cell_type": "code",
   "execution_count": 7,
   "metadata": {},
   "outputs": [
    {
     "name": "stdout",
     "output_type": "stream",
     "text": [
      "Lengths squared [0.03667225 0.085264   0.15484225] +- [0.0005 0.0005 0.0005] [m^2]\n",
      "Length Ratio middle/top: 2.3250277798607937 +- 0.0145192082325063\n",
      "Length Ratio bottom/top: 4.222327509220187 +- 0.024521059563612894\n",
      "Length Ratio bottom/mid: 1.8160331441170954 +- 0.0077445807939464754\n"
     ]
    }
   ],
   "source": [
    "# Ratio of lengths\n",
    "lengths_sq = lengths**2\n",
    "lengths_sq_err = 2 * lengths * lengths_err\n",
    "print(\"Lengths squared\", lengths_sq, \"+-\", lengths_err, \"[m^2]\")\n",
    "\n",
    "length_r_mt = lengths_sq[1]/lengths_sq[0]\n",
    "length_r_mt_err = np.sqrt((lengths_sq_err[0]/lengths_sq[0])**2 + (lengths_sq_err[1]/lengths_sq[1])**2) * length_r_mt\n",
    "print(\"Length Ratio middle/top:\", length_r_mt, \"+-\", length_r_mt_err)\n",
    "\n",
    "length_r_bt = lengths_sq[2]/lengths_sq[0]\n",
    "length_r_bt_err = np.sqrt((lengths_sq_err[0]/lengths_sq[0])**2 + (lengths_sq_err[2]/lengths_sq[2])**2) * length_r_bt\n",
    "print(\"Length Ratio bottom/top:\", length_r_bt, \"+-\", length_r_bt_err)\n",
    "\n",
    "length_r_bm = lengths_sq[2]/lengths_sq[1]\n",
    "length_r_bm_err = np.sqrt((lengths_sq_err[1]/lengths_sq[1])**2 + (lengths_sq_err[2]/lengths_sq[2])**2) * length_r_bm\n",
    "print(\"Length Ratio bottom/mid:\", length_r_bm, \"+-\", length_r_bm_err)"
   ]
  },
  {
   "cell_type": "code",
   "execution_count": 8,
   "metadata": {},
   "outputs": [
    {
     "name": "stdout",
     "output_type": "stream",
     "text": [
      "Deviation middle/top: 0.4780707392331711\n",
      "Deviation bottom/top: 0.19991128358750593\n",
      "Deviation bottom/mid: 0.8983605385427839\n"
     ]
    }
   ],
   "source": [
    "# Deviations:\n",
    "sigma_mt = np.abs((length_r_mt - kappa_r_mt)/(np.sqrt(length_r_mt_err**2 + kappa_r_mt_err**2)))\n",
    "print(\"Deviation middle/top:\", sigma_mt)\n",
    "\n",
    "sigma_bt = np.abs((length_r_bt - kappa_r_bt)/(np.sqrt(length_r_bt_err**2 + kappa_r_bt_err**2)))\n",
    "print(\"Deviation bottom/top:\", sigma_bt)\n",
    "\n",
    "sigma_bm = np.abs((length_r_bm - kappa_r_bm)/(np.sqrt(length_r_bm_err**2 + kappa_r_bm_err**2)))\n",
    "print(\"Deviation bottom/mid:\", sigma_bm)"
   ]
  },
  {
   "cell_type": "code",
   "execution_count": null,
   "metadata": {},
   "outputs": [],
   "source": []
  },
  {
   "cell_type": "code",
   "execution_count": null,
   "metadata": {},
   "outputs": [],
   "source": []
  }
 ],
 "metadata": {
  "kernelspec": {
   "display_name": "Python 3",
   "language": "python",
   "name": "python3"
  },
  "language_info": {
   "codemirror_mode": {
    "name": "ipython",
    "version": 3
   },
   "file_extension": ".py",
   "mimetype": "text/x-python",
   "name": "python",
   "nbconvert_exporter": "python",
   "pygments_lexer": "ipython3",
   "version": "3.8.5"
  }
 },
 "nbformat": 4,
 "nbformat_minor": 4
}
